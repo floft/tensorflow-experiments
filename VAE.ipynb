{
 "cells": [
  {
   "cell_type": "markdown",
   "metadata": {},
   "source": [
    "# Variational Auto-Encoder\n",
    "\n",
    "Implementing a VAE in TensorFlow. Doing this to understand VAEs better so I can then figure out VRNNs and then VRADA."
   ]
  },
  {
   "cell_type": "code",
   "execution_count": 1,
   "metadata": {},
   "outputs": [],
   "source": [
    "import os\n",
    "import numpy as np\n",
    "import matplotlib.pyplot as plt\n",
    "import tensorflow as tf\n",
    "from mnist import MNIST # pip install --user python-mnist\n",
    "from urllib.parse import urlparse\n",
    "from urllib.request import urlretrieve\n",
    "%matplotlib inline\n",
    "layers = tf.contrib.layers\n",
    "framework = tf.contrib.framework"
   ]
  },
  {
   "cell_type": "markdown",
   "metadata": {},
   "source": [
    "Download and load the dataset."
   ]
  },
  {
   "cell_type": "code",
   "execution_count": 6,
   "metadata": {},
   "outputs": [
    {
     "name": "stdout",
     "output_type": "stream",
     "text": [
      "Already downloaded train-images-idx3-ubyte.gz\n",
      "Already downloaded train-labels-idx1-ubyte.gz\n",
      "Already downloaded t10k-images-idx3-ubyte.gz\n",
      "Already downloaded t10k-labels-idx1-ubyte.gz\n"
     ]
    }
   ],
   "source": [
    "files = [\n",
    "    \"http://yann.lecun.com/exdb/mnist/train-images-idx3-ubyte.gz\",\n",
    "    \"http://yann.lecun.com/exdb/mnist/train-labels-idx1-ubyte.gz\",\n",
    "    \"http://yann.lecun.com/exdb/mnist/t10k-images-idx3-ubyte.gz\",\n",
    "    \"http://yann.lecun.com/exdb/mnist/t10k-labels-idx1-ubyte.gz\"\n",
    "]\n",
    "\n",
    "def download(url, fn, force=False):\n",
    "    if force or not os.path.exists(fn):\n",
    "        urlretrieve(url, fn)\n",
    "        print(\"Downloaded\", fn)\n",
    "    else:\n",
    "        print(\"Already downloaded\", fn)\n",
    "\n",
    "for f in files:\n",
    "    download(f, os.path.basename(urlparse(f).path))"
   ]
  },
  {
   "cell_type": "code",
   "execution_count": 7,
   "metadata": {},
   "outputs": [],
   "source": [
    "mndata = MNIST('.', return_type='numpy', gz=True)\n",
    "train_images, train_labels = mndata.load_training()\n",
    "test_images, test_labels = mndata.load_testing()\n",
    "assert train_images.shape[0] == train_labels.shape[0]\n",
    "assert test_images.shape[0] == test_labels.shape[0]"
   ]
  },
  {
   "cell_type": "markdown",
   "metadata": {},
   "source": [
    "Reshape the 60,000 784x1 images to 60,000 28x28 images and normalize."
   ]
  },
  {
   "cell_type": "code",
   "execution_count": 8,
   "metadata": {},
   "outputs": [],
   "source": [
    "train_images = (train_images.reshape(-1,28,28,1).astype(np.float32) - 128.0) / 128.0\n",
    "test_images = (test_images.reshape(-1,28,28,1).astype(np.float32) - 128.0) / 128.0"
   ]
  },
  {
   "cell_type": "markdown",
   "metadata": {},
   "source": [
    "Visualize digits."
   ]
  },
  {
   "cell_type": "code",
   "execution_count": 5,
   "metadata": {},
   "outputs": [
    {
     "data": {
      "image/png": "[encoded data removed]",
      "text/plain": [
       "<Figure size 1080x216 with 20 Axes>"
      ]
     },
     "metadata": {},
     "output_type": "display_data"
    }
   ],
   "source": [
    "def show(images, num=20, cols=10):\n",
    "    fig = plt.figure(figsize=(15,3))\n",
    "    fig.subplots_adjust(wspace=0, hspace=0)\n",
    "    for i in range(num):\n",
    "        ax = fig.add_subplot(np.ceil(num/cols), cols, i+1)\n",
    "        ax.grid(False); ax.set_yticks([]); ax.set_xticks([]); plt.axis('off')\n",
    "        plt.imshow(np.squeeze(images[i]), cmap='gray')\n",
    "    plt.show()\n",
    "\n",
    "show(train_images)"
   ]
  },
  {
   "cell_type": "markdown",
   "metadata": {},
   "source": [
    "## VAE"
   ]
  }
 ],
 "metadata": {
  "kernelspec": {
   "display_name": "Python 3",
   "language": "python",
   "name": "python3"
  },
  "language_info": {
   "codemirror_mode": {
    "name": "ipython",
    "version": 3
   },
   "file_extension": ".py",
   "mimetype": "text/x-python",
   "name": "python",
   "nbconvert_exporter": "python",
   "pygments_lexer": "ipython3",
   "version": "3.7.0"
  }
 },
 "nbformat": 4,
 "nbformat_minor": 2
}
